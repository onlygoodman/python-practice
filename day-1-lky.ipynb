{
 "cells": [
  {
   "cell_type": "code",
   "execution_count": 16,
   "id": "c25fc2cb",
   "metadata": {},
   "outputs": [
    {
     "name": "stdout",
     "output_type": "stream",
     "text": [
      "# 하나만 출력합니다.\n",
      "Hello Python Programming...!\n",
      "\n",
      "# 여러개를 출력합니다.\n",
      "10 20 30 40 50\n",
      "안녕하세요 저의 이름은 이경영입니다!\n",
      "\n",
      "# 아무것도 출력하지 않습니다.\n",
      "--확인 전용선--\n",
      "\n",
      "\n",
      "--확인 전용선--\n"
     ]
    }
   ],
   "source": [
    "# 하나만 출력합니다.\n",
    "print(\"# 하나만 출력합니다.\")\n",
    "print(\"Hello Python Programming...!\")\n",
    "print()\n",
    "\n",
    "#여러 개를 출력합니다.\n",
    "print(\"# 여러개를 출력합니다.\")\n",
    "print(10, 20, 30, 40, 50)\n",
    "print(\"안녕하세요\", \"저의\", \"이름은\", \"이경영입니다!\")\n",
    "print()\n",
    "\n",
    "# 아무것도 입력하지 않으면 단순하게 줄바꿈합니다.\n",
    "print(\"# 아무것도 출력하지 않습니다.\")\n",
    "print(\"--확인 전용선--\")\n",
    "print()\n",
    "print()\n",
    "print(\"--확인 전용선--\")"
   ]
  },
  {
   "cell_type": "code",
   "execution_count": 17,
   "id": "81d89786",
   "metadata": {},
   "outputs": [
    {
     "name": "stdout",
     "output_type": "stream",
     "text": [
      "이름\t나이\t지역\n",
      "이경영\t19\t뉴욕\n"
     ]
    }
   ],
   "source": [
    "# \\t를 사용하여 자리수 맞춤으로 출력\n",
    "print(\"이름\\t나이\\t지역\")\n",
    "print(\"이경영\\t19\\t뉴욕\")"
   ]
  },
  {
   "cell_type": "code",
   "execution_count": null,
   "id": "b9a05a49",
   "metadata": {},
   "outputs": [],
   "source": [
    "str_input = input(\"숫자를 입력하세요> \")\n",
    "int_input = float(str_input)\n",
    "\n",
    "print(int_input * 3)"
   ]
  },
  {
   "cell_type": "code",
   "execution_count": 15,
   "id": "a56d4d26",
   "metadata": {},
   "outputs": [
    {
     "name": "stdout",
     "output_type": "stream",
     "text": [
      "52.723000\n",
      "      52.723000\n",
      "   +52.72300000\n",
      "+52.72300000\n",
      "+0000052.723000\n"
     ]
    }
   ],
   "source": [
    "output_a = \"{:f}\".format(52.723)\n",
    "output_b = \"{:15f}\".format(52.723)\n",
    "output_c = \"{:+15.8f}\".format(52.723)\n",
    "output_d = \"{:+015f}\".format(52.723)\n",
    "\n",
    "print(output_a)\n",
    "print(output_b)\n",
    "print(output_c)\n",
    "print(output_c.strip())\n",
    "print(output_d)"
   ]
  },
  {
   "cell_type": "code",
   "execution_count": 6,
   "id": "a056a574",
   "metadata": {},
   "outputs": [
    {
     "name": "stdout",
     "output_type": "stream",
     "text": [
      "숫자를입력하시오 >3.149000\n",
      "          3.149\n",
      "     3.149\n"
     ]
    }
   ],
   "source": [
    "output_a = input(\"숫자를입력하시오 >\")\n",
    "x = float(output_a)\n",
    "y = float(output_a)\n",
    "\n",
    "x = \"{:15g}\".format(x)\n",
    "y = \"{:10g}\".format(y)\n",
    "print(x)\n",
    "print(y)"
   ]
  },
  {
   "cell_type": "code",
   "execution_count": 14,
   "id": "3956a993",
   "metadata": {},
   "outputs": [
    {
     "name": "stdout",
     "output_type": "stream",
     "text": [
      "test123#blank\n",
      "\n",
      "\"hello\"\n"
     ]
    },
    {
     "data": {
      "text/plain": [
       "'GOODBOY'"
      ]
     },
     "execution_count": 14,
     "metadata": {},
     "output_type": "execute_result"
    }
   ],
   "source": [
    "print('test123', 'blank', sep='#', end='\\n\\n')\n",
    "print(\"\\\"hello\\\"\")\n",
    "\n",
    "a= \"goodboy\"\n",
    "a.upper()"
   ]
  },
  {
   "cell_type": "code",
   "execution_count": 32,
   "id": "19a50461",
   "metadata": {
    "scrolled": true
   },
   "outputs": [
    {
     "name": "stdout",
     "output_type": "stream",
     "text": [
      "['10#20#30#40#50']\n",
      "['10', '20', '30', '40', '50']\n",
      "['10', '20', '30']\n",
      "10 20 30\n"
     ]
    }
   ],
   "source": [
    "a = \"10#20#30#40#50\".split(\" \")\n",
    "print(a)\n",
    "\n",
    "b = \"10#20#30#40#50\".split(\"#\")\n",
    "print(b)\n",
    "\n",
    "format_a = \"{} {} {}\".format(10, 20, 30)\n",
    "x = format_a.split(\" \")\n",
    "print(x)\n",
    "print(format_a)"
   ]
  },
  {
   "cell_type": "code",
   "execution_count": 43,
   "id": "a195f51d",
   "metadata": {},
   "outputs": [
    {
     "name": "stdout",
     "output_type": "stream",
     "text": [
      "첫번째 숫자>100\n",
      "두번째 숫자>200\n",
      "\n",
      "100 + 200 = 300\n",
      "A 지점: hello\n",
      "B 지점: HELLO\n"
     ]
    }
   ],
   "source": [
    "a = int(input(\"첫번째 숫자>\"))\n",
    "b = int(input(\"두번째 숫자>\"))\n",
    "\n",
    "print()\n",
    "print(\"{} + {} = {}\".format(a, b, a+b))\n",
    "\n",
    "string = \"hello\"\n",
    "#string.upper()실행 후 string 출력\n",
    "string.upper()\n",
    "print(\"A 지점:\", string)\n",
    "\n",
    "#string.upper() print 안에서 실행하기\n",
    "print(\"B 지점:\", string.upper())"
   ]
  },
  {
   "cell_type": "code",
   "execution_count": 44,
   "id": "55b268de",
   "metadata": {},
   "outputs": [
    {
     "name": "stdout",
     "output_type": "stream",
     "text": [
      "동해무로가 백두산이 마르고 닳도록\n",
      "하느님이 보우하사 우리나라 만세\n",
      "무궁화 삼천리 화려강산 대한사람\n",
      "대한으로 길이 보전하세\n"
     ]
    }
   ],
   "source": [
    "print(\"\"\"동해무로가 백두산이 마르고 닳도록\n",
    "하느님이 보우하사 우리나라 만세\n",
    "무궁화 삼천리 화려강산 대한사람\n",
    "대한으로 길이 보전하세\"\"\")"
   ]
  },
  {
   "cell_type": "code",
   "execution_count": 45,
   "id": "cc8d685c",
   "metadata": {},
   "outputs": [
    {
     "name": "stdout",
     "output_type": "stream",
     "text": [
      "goodafternoon !!end !\n"
     ]
    }
   ],
   "source": [
    "# 여러 라인의 문자열 => \"\"\"문자열\"\"\"\n",
    "# 문자열 연산 : + -> 문자열 + 문자열\n",
    "print(\"good\"+\"afternoon !!\"+\"end !\")"
   ]
  },
  {
   "cell_type": "code",
   "execution_count": 46,
   "id": "a7b6a166",
   "metadata": {},
   "outputs": [
    {
     "name": "stdout",
     "output_type": "stream",
     "text": [
      "False\n"
     ]
    }
   ],
   "source": [
    "print(10>20)"
   ]
  },
  {
   "cell_type": "code",
   "execution_count": 48,
   "id": "3d3264e8",
   "metadata": {},
   "outputs": [
    {
     "name": "stdout",
     "output_type": "stream",
     "text": [
      "True입니다...!\n"
     ]
    }
   ],
   "source": [
    "if True:\n",
    "    print(\"True입니다...!\")"
   ]
  },
  {
   "cell_type": "code",
   "execution_count": 64,
   "id": "dee8bc58",
   "metadata": {},
   "outputs": [
    {
     "name": "stdout",
     "output_type": "stream",
     "text": [
      "안\n",
      "요\n",
      "하\n",
      "True\n",
      "녕하세요\n"
     ]
    }
   ],
   "source": [
    "a_str = '안녕하세요'\n",
    "print(a_str[0])\n",
    "print(a_str[-1])\n",
    "print(a_str[-3])\n",
    "print(a_str[1]==a_str[-4])\n",
    "\n",
    "# 범위의 자료를 검색 [start : end] : end는 포함하지 않음\n",
    "# 안녕만 출력\n",
    "print(a_str [-4:])"
   ]
  },
  {
   "cell_type": "code",
   "execution_count": 71,
   "id": "d80b3ede",
   "metadata": {},
   "outputs": [
    {
     "name": "stdout",
     "output_type": "stream",
     "text": [
      "2022년 4월 28일 14시 29분 33초\n",
      "['2022년', '4월', '28일', '14시', '29분', '33초']\n"
     ]
    }
   ],
   "source": [
    "import datetime\n",
    "now = datetime.datetime.now()\n",
    "a = str(now.year)\n",
    "b = str(now.month)\n",
    "c = str(now.day)\n",
    "d = str(now.hour)\n",
    "e = str(now.minute)\n",
    "f = str(now.second)\n",
    "\n",
    "\n",
    "time1 = \"{} {} {} {} {} {}\".format(a+\"년\", b+\"월\", c+\"일\", d+\"시\", e+\"분\", f+\"초\")\n",
    "print(time1)\n",
    "\n",
    "print(time1.split(\" \"))"
   ]
  },
  {
   "cell_type": "code",
   "execution_count": 78,
   "id": "8514eb27",
   "metadata": {},
   "outputs": [
    {
     "name": "stdout",
     "output_type": "stream",
     "text": [
      "짝수판별기 \n",
      "\n",
      "숫자를 입력해주세요 > \n"
     ]
    },
    {
     "ename": "ValueError",
     "evalue": "invalid literal for int() with base 10: ''",
     "output_type": "error",
     "traceback": [
      "\u001b[1;31m---------------------------------------------------------------------------\u001b[0m",
      "\u001b[1;31mValueError\u001b[0m                                Traceback (most recent call last)",
      "\u001b[1;32m~\\AppData\\Local\\Temp/ipykernel_12440/1202051789.py\u001b[0m in \u001b[0;36m<module>\u001b[1;34m\u001b[0m\n\u001b[0;32m      1\u001b[0m \u001b[0mprint\u001b[0m\u001b[1;33m(\u001b[0m\u001b[1;34m\"짝수판별기 \\n\"\u001b[0m\u001b[1;33m)\u001b[0m\u001b[1;33m\u001b[0m\u001b[1;33m\u001b[0m\u001b[0m\n\u001b[0;32m      2\u001b[0m \u001b[1;33m\u001b[0m\u001b[0m\n\u001b[1;32m----> 3\u001b[1;33m \u001b[0mx\u001b[0m \u001b[1;33m=\u001b[0m \u001b[0mint\u001b[0m\u001b[1;33m(\u001b[0m\u001b[0minput\u001b[0m\u001b[1;33m(\u001b[0m\u001b[1;34m\"숫자를 입력해주세요 > \"\u001b[0m\u001b[1;33m)\u001b[0m\u001b[1;33m)\u001b[0m\u001b[1;33m\u001b[0m\u001b[1;33m\u001b[0m\u001b[0m\n\u001b[0m\u001b[0;32m      4\u001b[0m \u001b[1;33m\u001b[0m\u001b[0m\n\u001b[0;32m      5\u001b[0m \u001b[1;32mif\u001b[0m \u001b[0mx\u001b[0m\u001b[1;33m%\u001b[0m\u001b[1;36m2\u001b[0m\u001b[1;33m==\u001b[0m\u001b[1;36m0\u001b[0m\u001b[1;33m:\u001b[0m\u001b[1;33m\u001b[0m\u001b[1;33m\u001b[0m\u001b[0m\n",
      "\u001b[1;31mValueError\u001b[0m: invalid literal for int() with base 10: ''"
     ]
    }
   ],
   "source": [
    "print(\"짝수판별기 \\n\")\n",
    "\n",
    "x = int(input(\"숫자를 입력해주세요 > \"))\n",
    "\n",
    "if x%2==0:\n",
    "    print(\"짝수입니다\")\n",
    "\n",
    "if x%2==1:\n",
    "    print(\"홀수입니다\")"
   ]
  },
  {
   "cell_type": "code",
   "execution_count": 81,
   "id": "634c9edd",
   "metadata": {},
   "outputs": [
    {
     "ename": "KeyboardInterrupt",
     "evalue": "Interrupted by user",
     "output_type": "error",
     "traceback": [
      "\u001b[1;31m---------------------------------------------------------------------------\u001b[0m",
      "\u001b[1;31mKeyboardInterrupt\u001b[0m                         Traceback (most recent call last)",
      "\u001b[1;32m~\\AppData\\Local\\Temp/ipykernel_12440/3644691891.py\u001b[0m in \u001b[0;36m<module>\u001b[1;34m\u001b[0m\n\u001b[1;32m----> 1\u001b[1;33m \u001b[0mnumber\u001b[0m \u001b[1;33m=\u001b[0m \u001b[0minput\u001b[0m\u001b[1;33m(\u001b[0m\u001b[1;34m\"정수 입력\"\u001b[0m\u001b[1;33m)\u001b[0m\u001b[1;33m\u001b[0m\u001b[1;33m\u001b[0m\u001b[0m\n\u001b[0m\u001b[0;32m      2\u001b[0m \u001b[0mlast_character\u001b[0m \u001b[1;33m=\u001b[0m \u001b[0mnumber\u001b[0m\u001b[1;33m[\u001b[0m\u001b[1;33m-\u001b[0m\u001b[1;36m1\u001b[0m\u001b[1;33m]\u001b[0m\u001b[1;33m\u001b[0m\u001b[1;33m\u001b[0m\u001b[0m\n\u001b[0;32m      3\u001b[0m \u001b[1;33m\u001b[0m\u001b[0m\n\u001b[0;32m      4\u001b[0m \u001b[1;32mif\u001b[0m \u001b[0mlast_character\u001b[0m \u001b[1;32min\u001b[0m \u001b[1;34m\"02468\"\u001b[0m \u001b[1;33m:\u001b[0m\u001b[1;33m\u001b[0m\u001b[1;33m\u001b[0m\u001b[0m\n\u001b[0;32m      5\u001b[0m     \u001b[0mprint\u001b[0m\u001b[1;33m(\u001b[0m\u001b[1;34m\"Even number\"\u001b[0m\u001b[1;33m)\u001b[0m\u001b[1;33m\u001b[0m\u001b[1;33m\u001b[0m\u001b[0m\n",
      "\u001b[1;32mC:\\ProgramData\\Anaconda3\\lib\\site-packages\\ipykernel\\kernelbase.py\u001b[0m in \u001b[0;36mraw_input\u001b[1;34m(self, prompt)\u001b[0m\n\u001b[0;32m   1004\u001b[0m                 \u001b[1;34m\"raw_input was called, but this frontend does not support input requests.\"\u001b[0m\u001b[1;33m\u001b[0m\u001b[1;33m\u001b[0m\u001b[0m\n\u001b[0;32m   1005\u001b[0m             )\n\u001b[1;32m-> 1006\u001b[1;33m         return self._input_request(\n\u001b[0m\u001b[0;32m   1007\u001b[0m             \u001b[0mstr\u001b[0m\u001b[1;33m(\u001b[0m\u001b[0mprompt\u001b[0m\u001b[1;33m)\u001b[0m\u001b[1;33m,\u001b[0m\u001b[1;33m\u001b[0m\u001b[1;33m\u001b[0m\u001b[0m\n\u001b[0;32m   1008\u001b[0m             \u001b[0mself\u001b[0m\u001b[1;33m.\u001b[0m\u001b[0m_parent_ident\u001b[0m\u001b[1;33m[\u001b[0m\u001b[1;34m\"shell\"\u001b[0m\u001b[1;33m]\u001b[0m\u001b[1;33m,\u001b[0m\u001b[1;33m\u001b[0m\u001b[1;33m\u001b[0m\u001b[0m\n",
      "\u001b[1;32mC:\\ProgramData\\Anaconda3\\lib\\site-packages\\ipykernel\\kernelbase.py\u001b[0m in \u001b[0;36m_input_request\u001b[1;34m(self, prompt, ident, parent, password)\u001b[0m\n\u001b[0;32m   1049\u001b[0m             \u001b[1;32mexcept\u001b[0m \u001b[0mKeyboardInterrupt\u001b[0m\u001b[1;33m:\u001b[0m\u001b[1;33m\u001b[0m\u001b[1;33m\u001b[0m\u001b[0m\n\u001b[0;32m   1050\u001b[0m                 \u001b[1;31m# re-raise KeyboardInterrupt, to truncate traceback\u001b[0m\u001b[1;33m\u001b[0m\u001b[1;33m\u001b[0m\u001b[0m\n\u001b[1;32m-> 1051\u001b[1;33m                 \u001b[1;32mraise\u001b[0m \u001b[0mKeyboardInterrupt\u001b[0m\u001b[1;33m(\u001b[0m\u001b[1;34m\"Interrupted by user\"\u001b[0m\u001b[1;33m)\u001b[0m \u001b[1;32mfrom\u001b[0m \u001b[1;32mNone\u001b[0m\u001b[1;33m\u001b[0m\u001b[1;33m\u001b[0m\u001b[0m\n\u001b[0m\u001b[0;32m   1052\u001b[0m             \u001b[1;32mexcept\u001b[0m \u001b[0mException\u001b[0m\u001b[1;33m:\u001b[0m\u001b[1;33m\u001b[0m\u001b[1;33m\u001b[0m\u001b[0m\n\u001b[0;32m   1053\u001b[0m                 \u001b[0mself\u001b[0m\u001b[1;33m.\u001b[0m\u001b[0mlog\u001b[0m\u001b[1;33m.\u001b[0m\u001b[0mwarning\u001b[0m\u001b[1;33m(\u001b[0m\u001b[1;34m\"Invalid Message:\"\u001b[0m\u001b[1;33m,\u001b[0m \u001b[0mexc_info\u001b[0m\u001b[1;33m=\u001b[0m\u001b[1;32mTrue\u001b[0m\u001b[1;33m)\u001b[0m\u001b[1;33m\u001b[0m\u001b[1;33m\u001b[0m\u001b[0m\n",
      "\u001b[1;31mKeyboardInterrupt\u001b[0m: Interrupted by user"
     ]
    }
   ],
   "source": [
    "number = input(\"정수 입력\")\n",
    "last_character = number[-1]\n",
    "\n",
    "if last_character in \"02468\" :\n",
    "    print(\"Even number\")\n",
    "\n",
    "if last_character in \"13579\" :\n",
    "    print(\"Odd number\")"
   ]
  },
  {
   "cell_type": "code",
   "execution_count": 84,
   "id": "947327ff",
   "metadata": {},
   "outputs": [
    {
     "name": "stdout",
     "output_type": "stream",
     "text": [
      "1\n"
     ]
    }
   ],
   "source": [
    "a=3/2\n",
    "print(int(a))"
   ]
  },
  {
   "cell_type": "code",
   "execution_count": 90,
   "id": "e8894b4e",
   "metadata": {},
   "outputs": [
    {
     "name": "stdout",
     "output_type": "stream",
     "text": [
      "4\n",
      "summer\n"
     ]
    }
   ],
   "source": [
    "import datetime\n",
    "now = datetime.datetime.now()\n",
    "month = now.month\n",
    "x= int(month/3)\n",
    "\n",
    "print(month)\n",
    "\n",
    "if x==0 :\n",
    "    print(\"spring\")\n",
    "    \n",
    "elif x==1 :\n",
    "    print(\"summer\")\n",
    "\n",
    "elif x==2 :\n",
    "    pass\n",
    "\n",
    "elif x==3:\n",
    "    print(\"winter\")\n"
   ]
  },
  {
   "cell_type": "code",
   "execution_count": 94,
   "id": "787fde9d",
   "metadata": {},
   "outputs": [
    {
     "name": "stdout",
     "output_type": "stream",
     "text": [
      "4\n",
      "summer\n"
     ]
    }
   ],
   "source": [
    "import datetime\n",
    "now = datetime.datetime.now()\n",
    "month = now.month\n",
    "x= int(month/3)\n",
    "\n",
    "print(month)\n",
    "\n",
    "if x==0 :\n",
    "    print(\"spring\")\n",
    "    \n",
    "elif x==1 :\n",
    "    print(\"summer\")\n",
    "\n",
    "elif x==2 :\n",
    "    raise NotImplementedError\n",
    "\n",
    "elif x==3:\n",
    "    print(\"winter\")\n"
   ]
  },
  {
   "cell_type": "code",
   "execution_count": 113,
   "id": "321a7e57",
   "metadata": {},
   "outputs": [
    {
     "name": "stdout",
     "output_type": "stream",
     "text": [
      "[1, 2, 3, 4, 5]\n",
      "[1, 2, 99, 3, 4, 5]\n",
      "[1, 2, 3, 4, 5]\n",
      "[1, 2, 4, 5]\n",
      "[1, 2, 4]\n",
      "[1, 2]\n",
      "[1, 2, 1, 2]\n",
      "[1, 1, 2]\n",
      "[1, 1, 1, 1]\n",
      "1\n",
      "1\n",
      "1\n",
      "1\n"
     ]
    }
   ],
   "source": [
    "list_a = [1, 2, 3]\n",
    "list_a.extend([4, 5])\n",
    "print(list_a)\n",
    "\n",
    "list_a.insert(2,99)\n",
    "print(list_a)\n",
    "\n",
    "# del list\n",
    "del list_a[2]\n",
    "print(list_a)\n",
    "\n",
    "# pop list\n",
    "list_a.pop(2)\n",
    "print(list_a)\n",
    "\n",
    "list_a.pop()\n",
    "print(list_a)\n",
    "\n",
    "list_a.remove(4)\n",
    "print(list_a)\n",
    "\n",
    "list_b = list_a + list_a\n",
    "print(list_b)\n",
    "\n",
    "list_b.remove(2)\n",
    "print(list_b)\n",
    "\n",
    "list_c = list_b + list_b\n",
    "three = 2\n",
    "six = 5\n",
    "list_c.pop(2)\n",
    "list_c.pop(4)\n",
    "print(list_c)\n",
    "\n",
    "for x in list_c:\n",
    "    print(x)"
   ]
  },
  {
   "cell_type": "code",
   "execution_count": 109,
   "id": "4f20ef7b",
   "metadata": {},
   "outputs": [
    {
     "name": "stdout",
     "output_type": "stream",
     "text": [
      "숫자입력>10\n",
      "숫자 입력>20\n",
      "30.0\n"
     ]
    }
   ],
   "source": [
    "# 키보드로부터 두 수를 입력 받아 두 수의 합과, 곱의 결과를 구하세요\n",
    "\n",
    "input_a = input(\"숫자입력>\")\n",
    "input_b = float(input(\"숫자 입력>\"))\n",
    "\n",
    "input_a = float(input_a)\n",
    "\n",
    "print(input_a + input_b)"
   ]
  },
  {
   "cell_type": "code",
   "execution_count": 120,
   "id": "5d622809",
   "metadata": {},
   "outputs": [
    {
     "name": "stdout",
     "output_type": "stream",
     "text": [
      "273  는 홀수입니다.\n",
      "103  는 홀수입니다.\n",
      "5  는 홀수입니다.\n",
      "32  는  짝수입니다.\n",
      "65  는 홀수입니다.\n",
      "9  는 홀수입니다.\n",
      "72  는  짝수입니다.\n",
      "800  는  짝수입니다.\n",
      "99  는 홀수입니다.\n",
      "273  는 세자리수입니다.\n",
      "103  는 세자리수입니다.\n",
      "5  는 한자리수 입니다.\n",
      "32  는 두자리수입니다.\n",
      "65  는 두자리수입니다.\n",
      "9  는 한자리수 입니다.\n",
      "72  는 두자리수입니다.\n",
      "800  는 세자리수입니다.\n",
      "99  는 두자리수입니다.\n",
      "273 는 3 자리수입니다.\n",
      "103 는 3 자리수입니다.\n",
      "5 는 1 자리수입니다.\n",
      "32 는 2 자리수입니다.\n",
      "65 는 2 자리수입니다.\n",
      "9 는 1 자리수입니다.\n",
      "72 는 2 자리수입니다.\n",
      "800 는 3 자리수입니다.\n",
      "99 는 2 자리수입니다.\n"
     ]
    }
   ],
   "source": [
    "numbers = [273, 103, 5, 32, 65, 9, 72, 800, 99]\n",
    "\n",
    "for x in numbers:\n",
    "    if x%2==0:\n",
    "        print(x,\" 는\",\" 짝수입니다.\")\n",
    "    else:\n",
    "        print(x,\" 는\", \"홀수입니다.\")\n",
    "        \n",
    "for y in numbers :\n",
    "    if y>99:\n",
    "        print(y, \" 는\", \"세자리수입니다.\")\n",
    "    elif y>9:\n",
    "        print(y, \" 는\", \"두자리수입니다.\")\n",
    "    elif y>0:\n",
    "        print(y, \" 는\", \"한자리수 입니다.\")\n",
    "        \n",
    "for z in numbers:\n",
    "    print(z, \"는\", len(str(z)), \"자리수입니다.\")"
   ]
  },
  {
   "cell_type": "code",
   "execution_count": 141,
   "id": "2198039e",
   "metadata": {},
   "outputs": [
    {
     "name": "stdout",
     "output_type": "stream",
     "text": [
      "[[1, 4, 7], [2, 5, 8], [3, 6, 9]]\n",
      "1\n",
      "2\n",
      "3\n",
      "4\n",
      "5\n",
      "6\n",
      "7\n",
      "8\n",
      "9\n",
      "[1, 2, 3, 4, 5, 6, 7, 8, 9]\n",
      "1\n",
      "2\n",
      "3\n",
      "4\n",
      "5\n",
      "6\n",
      "7\n",
      "8\n",
      "9\n"
     ]
    }
   ],
   "source": [
    "list_of_list = [\n",
    "    [1, 2, 3],\n",
    "    [4, 5, 6, 7],\n",
    "    [8, 9],\n",
    "]\n",
    "\n",
    "y_out = [[], [], []]\n",
    "\n",
    "for y1 in list_of_list:\n",
    "    for y2 in y1:\n",
    "        y_out[].append(y2)\n",
    "\n",
    "print(y_out)\n",
    "\n",
    "for z in list_of_list:\n",
    "    for y in z:\n",
    "        print(y)\n",
    "\n",
    "k=[]        \n",
    "for another in list_of_list:\n",
    "    for ky in another:\n",
    "        k.append(ky)\n",
    "\n",
    "print(k)\n",
    "\n",
    "for x1 in k:\n",
    "    print(x1)"
   ]
  },
  {
   "cell_type": "code",
   "execution_count": 127,
   "id": "e57afc14",
   "metadata": {},
   "outputs": [
    {
     "name": "stdout",
     "output_type": "stream",
     "text": [
      "[[1], [2, 4], [3]]\n"
     ]
    }
   ],
   "source": [
    "a = [[1], [2], [3]]\n",
    "\n",
    "a[1].append(4)\n",
    "print(a)"
   ]
  },
  {
   "cell_type": "code",
   "execution_count": 131,
   "id": "4dbf78fc",
   "metadata": {},
   "outputs": [
    {
     "name": "stdout",
     "output_type": "stream",
     "text": [
      "[[3, 6, 9], [1, 4, 7], [2, 5, 8]]\n"
     ]
    }
   ],
   "source": [
    "numbers = [1, 2, 3, 4, 5, 6, 7, 8, 9]\n",
    "output = [[], [], []]\n",
    "\n",
    "for number in numbers :\n",
    "    output[(number)%3].append(number)\n",
    "    \n",
    "print(output)"
   ]
  },
  {
   "cell_type": "code",
   "execution_count": 140,
   "id": "2629c013",
   "metadata": {},
   "outputs": [
    {
     "data": {
      "text/plain": [
       "10"
      ]
     },
     "execution_count": 140,
     "metadata": {},
     "output_type": "execute_result"
    }
   ],
   "source": [
    "dic_x = {\"a1\":10, \"a2\":20}\n",
    "\n",
    "dic_x\n",
    "dic_x[\"a1\"]"
   ]
  }
 ],
 "metadata": {
  "kernelspec": {
   "display_name": "Python 3 (ipykernel)",
   "language": "python",
   "name": "python3"
  },
  "language_info": {
   "codemirror_mode": {
    "name": "ipython",
    "version": 3
   },
   "file_extension": ".py",
   "mimetype": "text/x-python",
   "name": "python",
   "nbconvert_exporter": "python",
   "pygments_lexer": "ipython3",
   "version": "3.9.7"
  }
 },
 "nbformat": 4,
 "nbformat_minor": 5
}
